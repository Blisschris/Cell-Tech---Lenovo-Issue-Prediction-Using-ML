{
 "cells": [
  {
   "cell_type": "markdown",
   "id": "26079b5a",
   "metadata": {},
   "source": [
    "# 🔧 Lenovo Product Issue Classifier\n",
    "**Company Context:** This project simulates a classification system for Cell Tech Inc., a company that repairs and analyzes Lenovo laptops.\n",
    "\n"
   ]
  },
  {
   "cell_type": "code",
   "execution_count": null,
   "id": "5b462ab4",
   "metadata": {},
   "outputs": [],
   "source": [
    "# Step 1: Import libraries\n",
    "import pandas as pd\n",
    "import matplotlib.pyplot as plt\n",
    "import seaborn as sns\n",
    "from sklearn.model_selection import train_test_split\n",
    "from sklearn.ensemble import RandomForestClassifier\n",
    "from sklearn.metrics import classification_report, confusion_matrix\n",
    "import joblib"
   ]
  },
  {
   "cell_type": "code",
   "execution_count": null,
   "id": "d75e4e77",
   "metadata": {},
   "outputs": [],
   "source": [
    "# Step 2: Load dataset\n",
    "df = pd.read_csv('lenovo_tech_issue_data.csv')\n",
    "df.head()"
   ]
  },
  {
   "cell_type": "code",
   "execution_count": null,
   "id": "9f81b9dd",
   "metadata": {},
   "outputs": [],
   "source": [
    "# Step 3: Basic EDA\n",
    "df['Issue_Type'].value_counts().plot(kind='bar', title='Reported Lenovo Issues by Type')\n",
    "plt.xlabel('Issue Type')\n",
    "plt.ylabel('Count')\n",
    "plt.tight_layout()\n",
    "plt.show()"
   ]
  },
  {
   "cell_type": "code",
   "execution_count": null,
   "id": "cefdbc3a",
   "metadata": {},
   "outputs": [],
   "source": [
    "# Step 4: Prepare the data\n",
    "df_encoded = pd.get_dummies(df, drop_first=True)\n",
    "X = df_encoded.drop('Issue_Type', axis=1)\n",
    "y = df['Issue_Type']\n",
    "X_train, X_test, y_train, y_test = train_test_split(X, y, test_size=0.2, random_state=42)"
   ]
  },
  {
   "cell_type": "code",
   "execution_count": null,
   "id": "c8fabed4",
   "metadata": {},
   "outputs": [],
   "source": [
    "# Step 5: Train the model\n",
    "model = RandomForestClassifier(n_estimators=100, random_state=42)\n",
    "model.fit(X_train, y_train)"
   ]
  },
  {
   "cell_type": "code",
   "execution_count": null,
   "id": "a51c50ac",
   "metadata": {},
   "outputs": [],
   "source": [
    "# Step 6: Evaluate performance\n",
    "y_pred = model.predict(X_test)\n",
    "print(classification_report(y_test, y_pred))"
   ]
  },
  {
   "cell_type": "code",
   "execution_count": null,
   "id": "086e27a3",
   "metadata": {},
   "outputs": [],
   "source": [
    "# Step 7: Confusion matrix\n",
    "sns.heatmap(confusion_matrix(y_test, y_pred), annot=True, fmt='d', cmap='Oranges')\n",
    "plt.title('Confusion Matrix')\n",
    "plt.xlabel('Predicted')\n",
    "plt.ylabel('Actual')\n",
    "plt.show()"
   ]
  },
  {
   "cell_type": "code",
   "execution_count": null,
   "id": "36d56485",
   "metadata": {},
   "outputs": [],
   "source": [
    "# Step 8: Feature importance\n",
    "feat_imp = pd.DataFrame({'Feature': X.columns, 'Importance': model.feature_importances_})\n",
    "feat_imp = feat_imp.sort_values('Importance', ascending=False)\n",
    "sns.barplot(data=feat_imp, x='Importance', y='Feature')\n",
    "plt.title('Feature Importance')\n",
    "plt.tight_layout()\n",
    "plt.show()"
   ]
  },
  {
   "cell_type": "code",
   "execution_count": null,
   "id": "534c7e5a",
   "metadata": {},
   "outputs": [],
   "source": [
    "# Step 9: Save the model\n",
    "joblib.dump(model, 'lenovo_issue_classifier.pkl')"
   ]
  }
 ],
 "metadata": {
  "language_info": {
   "name": "python"
  }
 },
 "nbformat": 4,
 "nbformat_minor": 5
}
